{
 "metadata": {
  "name": "Python R and Tableau Predictive Modeling"
 },
 "nbformat": 3,
 "nbformat_minor": 0,
 "worksheets": [
  {
   "cells": [
    {
     "cell_type": "markdown",
     "metadata": {},
     "source": [
      "# Build a Tableau TDE using the Tableau Python API and the RPY2 Interface to R"
     ]
    },
    {
     "cell_type": "code",
     "collapsed": false,
     "input": [
      "# import the modules\n",
      "# ASSUMES THAT THESE ARE ALREADY PROPERLY SETUP, which may not be easy\n",
      "import dataextract as tde\n",
      "import pandas as pd\n",
      "import pandas.rpy.common as com\n",
      "from rpy2 import robjects as r\n",
      "import os\n",
      "import sys\n",
      "from datetime import datetime"
     ],
     "language": "python",
     "metadata": {},
     "outputs": [],
     "prompt_number": 1
    },
    {
     "cell_type": "heading",
     "level": 2,
     "metadata": {},
     "source": [
      "Grab the R Dataset that has been scored"
     ]
    },
    {
     "cell_type": "code",
     "collapsed": false,
     "input": [
      "# read in the data into the R session within python\n",
      "r.r(\"load('test-data.rdata')\")\n"
     ],
     "language": "python",
     "metadata": {},
     "outputs": [
      {
       "output_type": "pyout",
       "prompt_number": 2,
       "text": [
        "<StrVector - Python:0x056BFDC8 / R:0x0811E670>\r\n",
        "['df']"
       ]
      }
     ],
     "prompt_number": 2
    },
    {
     "cell_type": "code",
     "collapsed": false,
     "input": [
      "# check that its there\n",
      "r.r('dim(df)')"
     ],
     "language": "python",
     "metadata": {},
     "outputs": [
      {
       "output_type": "pyout",
       "prompt_number": 3,
       "text": [
        "<IntVector - Python:0x056C4CB0 / R:0x08121160>\r\n",
        "[     150,        6]"
       ]
      }
     ],
     "prompt_number": 3
    },
    {
     "cell_type": "code",
     "collapsed": false,
     "input": [
      "# use comm to bring in as pandas data frame\n",
      "# http://pandas.pydata.org/pandas-docs/stable/r_interface.html\n",
      "df = com.load_data('df')\n",
      "df.head()"
     ],
     "language": "python",
     "metadata": {},
     "outputs": [
      {
       "html": [
        "<div style=\"max-height:1000px;max-width:1500px;overflow:auto;\">\n",
        "<table border=\"1\" class=\"dataframe\">\n",
        "  <thead>\n",
        "    <tr style=\"text-align: right;\">\n",
        "      <th></th>\n",
        "      <th>sepal.length</th>\n",
        "      <th>sepal.width</th>\n",
        "      <th>petal.length</th>\n",
        "      <th>petal.width</th>\n",
        "      <th>species</th>\n",
        "      <th>pred</th>\n",
        "    </tr>\n",
        "  </thead>\n",
        "  <tbody>\n",
        "    <tr>\n",
        "      <th>1</th>\n",
        "      <td> 5.1</td>\n",
        "      <td> 3.5</td>\n",
        "      <td> 1.4</td>\n",
        "      <td> 0.2</td>\n",
        "      <td> setosa</td>\n",
        "      <td> setosa</td>\n",
        "    </tr>\n",
        "    <tr>\n",
        "      <th>2</th>\n",
        "      <td> 4.9</td>\n",
        "      <td> 3.0</td>\n",
        "      <td> 1.4</td>\n",
        "      <td> 0.2</td>\n",
        "      <td> setosa</td>\n",
        "      <td> setosa</td>\n",
        "    </tr>\n",
        "    <tr>\n",
        "      <th>3</th>\n",
        "      <td> 4.7</td>\n",
        "      <td> 3.2</td>\n",
        "      <td> 1.3</td>\n",
        "      <td> 0.2</td>\n",
        "      <td> setosa</td>\n",
        "      <td> setosa</td>\n",
        "    </tr>\n",
        "    <tr>\n",
        "      <th>4</th>\n",
        "      <td> 4.6</td>\n",
        "      <td> 3.1</td>\n",
        "      <td> 1.5</td>\n",
        "      <td> 0.2</td>\n",
        "      <td> setosa</td>\n",
        "      <td> setosa</td>\n",
        "    </tr>\n",
        "    <tr>\n",
        "      <th>5</th>\n",
        "      <td> 5.0</td>\n",
        "      <td> 3.6</td>\n",
        "      <td> 1.4</td>\n",
        "      <td> 0.2</td>\n",
        "      <td> setosa</td>\n",
        "      <td> setosa</td>\n",
        "    </tr>\n",
        "  </tbody>\n",
        "</table>\n",
        "</div>"
       ],
       "output_type": "pyout",
       "prompt_number": 4,
       "text": [
        "   sepal.length  sepal.width  petal.length  petal.width species    pred\n",
        "1           5.1          3.5           1.4          0.2  setosa  setosa\n",
        "2           4.9          3.0           1.4          0.2  setosa  setosa\n",
        "3           4.7          3.2           1.3          0.2  setosa  setosa\n",
        "4           4.6          3.1           1.5          0.2  setosa  setosa\n",
        "5           5.0          3.6           1.4          0.2  setosa  setosa"
       ]
      }
     ],
     "prompt_number": 4
    },
    {
     "cell_type": "heading",
     "level": 2,
     "metadata": {},
     "source": [
      "Create our Tableau Data Extract"
     ]
    },
    {
     "cell_type": "code",
     "collapsed": false,
     "input": [
      "# Reference the Make Order example that comes with the Tableau API\n",
      "# Also help from http://ryrobes.com/python/build-tableau-data-extracts-out-of-csv-files-more-python-tde-api-madness/\n",
      "\n",
      "# create the extract, replace if it already exists\n",
      "fname = 'use-R.tde'\n",
      "try:  \n",
      "    tdefile = tde.Extract(fname) \n",
      "except: \n",
      "    os.system('del ' + fname)\n",
      "    os.system('del DataExtract.log') \n",
      "    tdefile = tde.Extract(fname)"
     ],
     "language": "python",
     "metadata": {},
     "outputs": [],
     "prompt_number": 5
    },
    {
     "cell_type": "code",
     "collapsed": false,
     "input": [
      "# define the table definition\n",
      "tableDef = tde.TableDefinition()\n"
     ],
     "language": "python",
     "metadata": {},
     "outputs": [],
     "prompt_number": 6
    },
    {
     "cell_type": "code",
     "collapsed": false,
     "input": [
      "# create a list of column names\n",
      "colnames = df.columns\n",
      "# create a list of column types\n",
      "coltypes = df.dtypes"
     ],
     "language": "python",
     "metadata": {},
     "outputs": [],
     "prompt_number": 7
    },
    {
     "cell_type": "code",
     "collapsed": false,
     "input": [
      "# create a dict for the field maps\n",
      "# Define type maps\n",
      "# Caveat: I am not including all of the possibilities here\n",
      "fieldMap = { \n",
      "    'float64' :     tde.Type.DOUBLE,\n",
      "    'float32' :     tde.Type.DOUBLE,\n",
      "    'int64' :       tde.Type.DOUBLE,\n",
      "    'int32' :       tde.Type.DOUBLE,\n",
      "    'object':       tde.Type.UNICODE_STRING,\n",
      "    'bool' :        tde.Type.BOOLEAN\n",
      "}"
     ],
     "language": "python",
     "metadata": {},
     "outputs": [],
     "prompt_number": 8
    },
    {
     "cell_type": "code",
     "collapsed": true,
     "input": [
      "# for each column, add the appropriate info the Table Definition\n",
      "for i in range(0, len(colnames)):\n",
      "    cname = colnames[i]\n",
      "    ctype = fieldMap.get(str(coltypes[i]))\n",
      "    tableDef.addColumn(cname, ctype)        "
     ],
     "language": "python",
     "metadata": {},
     "outputs": [],
     "prompt_number": 9
    },
    {
     "cell_type": "code",
     "collapsed": false,
     "input": [
      "# create the extract from the Table Definition\n",
      "# not sure why this is the proper syntax - Tableau API documentation seems limited\n",
      "# Super Hacky, but legible \n",
      "# for each row, add the data to the table\n",
      "# Again, not accounting for every type or errors\n",
      "with tdefile as extract:\n",
      "    table = extract.addTable(\"Extract\", tableDef)\n",
      "    for r in range(0, df.shape[0]):\n",
      "        row = tde.Row(tableDef)\n",
      "        for c in range(0, len(coltypes)):\n",
      "            if str(coltypes[c]) == 'float64':\n",
      "                row.setDouble(c, df.iloc[r,c])\n",
      "            elif str(coltypes[c]) == 'float32':\n",
      "                row.setDouble(c, df.iloc[r,c])\n",
      "            elif str(coltypes[c]) == 'int64':\n",
      "                row.setDouble(c, df.iloc[r,c])   \n",
      "            elif str(coltypes[c]) == 'int32':\n",
      "                row.setDouble(c, df.iloc[r,c])\n",
      "            elif str(coltypes[c]) == 'object':\n",
      "                row.setString(c, df.iloc[r,c]) \n",
      "            elif str(coltypes[c]) == 'bool':\n",
      "                row.setBoolean(c, df.iloc[r,c])\n",
      "            else:\n",
      "                row.setNull(c)\n",
      "        # insert the row\n",
      "        table.insert(row)\n"
     ],
     "language": "python",
     "metadata": {},
     "outputs": [],
     "prompt_number": 10
    }
   ],
   "metadata": {}
  }
 ]
}